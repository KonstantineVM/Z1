{
 "cells": [
  {
   "cell_type": "markdown",
   "metadata": {},
   "source": [
    "# Z1 Data Exploration and Loading\n",
    "\n",
    "This notebook demonstrates how to load and explore Federal Reserve Z1 (Flow of Funds) data using the project's data loading infrastructure."
   ]
  },
  {
   "cell_type": "markdown",
   "metadata": {},
   "source": [
    "## 1. Setup and Imports"
   ]
  },
  {
   "cell_type": "code",
   "execution_count": null,
   "metadata": {},
   "outputs": [],
   "source": [
    "# Standard imports\n",
    "import pandas as pd\n",
    "import numpy as np\n",
    "import matplotlib.pyplot as plt\n",
    "import seaborn as sns\n",
    "from datetime import datetime\n",
    "import warnings\n",
    "warnings.filterwarnings('ignore')\n",
    "\n",
    "# Project imports\n",
    "import sys\n",
    "sys.path.append('..')  # Add parent directory to path\n",
    "\n",
    "from src.data.cached_fed_data_loader import CachedFedDataLoader\n",
    "from src.data.data_processor import DataProcessor\n",
    "\n",
    "# Set plotting style\n",
    "plt.style.use('seaborn-v0_8-darkgrid')\n",
    "sns.set_palette(\"husl\")\n",
    "%matplotlib inline"
   ]
  },
  {
   "cell_type": "markdown",
   "metadata": {},
   "source": [
    "## 2. Load Z1 Data with Caching"
   ]
  },
  {
   "cell_type": "code",
   "execution_count": null,
   "metadata": {},
   "outputs": [],
   "source": [
    "# Initialize the cached data loader\n",
    "loader = CachedFedDataLoader(\n",
    "    base_directory=\"../data/fed_data\",\n",
    "    cache_directory=\"../data/cache\"\n",
    ")\n",
    "\n",
    "# Load Z1 data (will use cache if available)\n",
    "print(\"Loading Z1 data...\")\n",
    "z1_data = loader.load_single_source('Z1')\n",
    "\n",
    "if z1_data is not None:\n",
    "    print(f\"\\nLoaded Z1 data shape: {z1_data.shape}\")\n",
    "    print(f\"Date range: {z1_data.index.min()} to {z1_data.index.max()}\")\n",
    "    print(f\"Number of series: {len(z1_data.columns)}\")\n",
    "else:\n",
    "    print(\"Failed to load Z1 data. Please check data availability.\")"
   ]
  },
  {
   "cell_type": "markdown",
   "metadata": {},
   "source": [
    "## 3. Data Structure Exploration"
   ]
  },
  {
   "cell_type": "code",
   "execution_count": null,
   "metadata": {},
   "outputs": [],
   "source": [
    "# Display basic information about the dataset\n",
    "print(\"Dataset Info:\")\n",
    "print(\"=\" * 50)\n",
    "print(f\"Total observations: {len(z1_data)}\")\n",
    "print(f\"Total series: {len(z1_data.columns)}\")\n",
    "print(f\"\\nData types:\")\n",
    "print(z1_data.dtypes.value_counts())\n",
    "\n",
    "# Show sample data\n",
    "print(\"\\nFirst 5 rows and columns:\")\n",
    "z1_data.iloc[:5, :5]"
   ]
  },
  {
   "cell_type": "code",
   "execution_count": null,
   "metadata": {},
   "outputs": [],
   "source": [
    "# Explore series names and categories\n",
    "series_names = z1_data.columns.tolist()\n",
    "\n",
    "# Categorize series by prefix\n",
    "series_categories = {}\n",
    "for series in series_names:\n",
    "    prefix = series.split('.')[0] if '.' in series else series[:2]\n",
    "    if prefix not in series_categories:\n",
    "        series_categories[prefix] = []\n",
    "    series_categories[prefix].append(series)\n",
    "\n",
    "print(\"Series Categories:\")\n",
    "print(\"=\" * 50)\n",
    "for category, series_list in sorted(series_categories.items()):\n",
    "    print(f\"{category}: {len(series_list)} series\")\n",
    "\n",
    "# Show example series from major categories\n",
    "print(\"\\nExample series from major categories:\")\n",
    "for category in ['FL', 'FA', 'FU', 'LM']:\n",
    "    if category in series_categories:\n",
    "        print(f\"\\n{category} examples:\")\n",
    "        for series in series_categories[category][:3]:\n",
    "            print(f\"  - {series}\")"
   ]
  },
  {
   "cell_type": "markdown",
   "metadata": {},
   "source": [
    "## 4. Data Quality Assessment"
   ]
  },
  {
   "cell_type": "code",
   "execution_count": null,
   "metadata": {},
   "outputs": [],
   "source": [
    "# Check for missing values\n",
    "missing_summary = pd.DataFrame({\n",
    "    'missing_count': z1_data.isnull().sum(),\n",
    "    'missing_pct': (z1_data.isnull().sum() / len(z1_data) * 100).round(2)\n",
    "})\n",
    "\n",
    "# Show series with different levels of completeness\n",
    "print(\"Data Completeness Summary:\")\n",
    "print(\"=\" * 50)\n",
    "print(f\"Series with no missing values: {(missing_summary['missing_count'] == 0).sum()}\")\n",
    "print(f\"Series with <10% missing: {(missing_summary['missing_pct'] < 10).sum()}\")\n",
    "print(f\"Series with >50% missing: {(missing_summary['missing_pct'] > 50).sum()}\")\n",
    "\n",
    "# Visualize missing data patterns\n",
    "plt.figure(figsize=(12, 6))\n",
    "missing_pct_bins = pd.cut(missing_summary['missing_pct'], \n",
    "                          bins=[0, 10, 25, 50, 75, 100],\n",
    "                          labels=['0-10%', '10-25%', '25-50%', '50-75%', '75-100%'])\n",
    "missing_pct_bins.value_counts().sort_index().plot(kind='bar')\n",
    "plt.title('Distribution of Missing Data Across Series')\n",
    "plt.xlabel('Percentage of Missing Values')\n",
    "plt.ylabel('Number of Series')\n",
    "plt.xticks(rotation=45)\n",
    "plt.tight_layout()\n",
    "plt.show()"
   ]
  },
  {
   "cell_type": "markdown",
   "metadata": {},
   "source": [
    "## 5. Time Series Characteristics"
   ]
  },
  {
   "cell_type": "code",
   "execution_count": null,
   "metadata": {},
   "outputs": [],
   "source": [
    "# Select a few representative series for detailed analysis\n",
    "# Focus on series with good data coverage\n",
    "complete_series = missing_summary[missing_summary['missing_count'] == 0].index\n",
    "\n",
    "# Select different types of series\n",
    "selected_series = []\n",
    "for prefix in ['FL', 'FA', 'FU', 'LM']:\n",
    "    prefix_series = [s for s in complete_series if s.startswith(prefix)]\n",
    "    if prefix_series:\n",
    "        selected_series.append(prefix_series[0])\n",
    "\n",
    "print(f\"Selected {len(selected_series)} series for detailed analysis:\")\n",
    "for series in selected_series:\n",
    "    print(f\"  - {series}\")"
   ]
  },
  {
   "cell_type": "code",
   "execution_count": null,
   "metadata": {},
   "outputs": [],
   "source": [
    "# Plot selected series\n",
    "fig, axes = plt.subplots(len(selected_series), 1, figsize=(12, 3*len(selected_series)))\n",
    "if len(selected_series) == 1:\n",
    "    axes = [axes]\n",
    "\n",
    "for idx, series in enumerate(selected_series):\n",
    "    z1_data[series].plot(ax=axes[idx], linewidth=1.5)\n",
    "    axes[idx].set_title(f'{series}')\n",
    "    axes[idx].set_xlabel('')\n",
    "    axes[idx].grid(True, alpha=0.3)\n",
    "\n",
    "plt.tight_layout()\n",
    "plt.show()"
   ]
  },
  {
   "cell_type": "markdown",
   "metadata": {},
   "source": [
    "## 6. Statistical Summary"
   ]
  },
  {
   "cell_type": "code",
   "execution_count": null,
   "metadata": {},
   "outputs": [],
   "source": [
    "# Compute basic statistics for selected series\n",
    "stats_df = z1_data[selected_series].describe()\n",
    "\n",
    "# Add additional statistics\n",
    "stats_df.loc['skew'] = z1_data[selected_series].skew()\n",
    "stats_df.loc['kurtosis'] = z1_data[selected_series].kurtosis()\n",
    "stats_df.loc['cv'] = stats_df.loc['std'] / stats_df.loc['mean']  # Coefficient of variation\n",
    "\n",
    "print(\"Statistical Summary of Selected Series:\")\n",
    "print(\"=\" * 50)\n",
    "stats_df.round(2)"
   ]
  },
  {
   "cell_type": "markdown",
   "metadata": {},
   "source": [
    "## 7. Growth Rate Analysis"
   ]
  },
  {
   "cell_type": "code",
   "execution_count": null,
   "metadata": {},
   "outputs": [],
   "source": [
    "# Calculate year-over-year growth rates\n",
    "growth_rates = z1_data[selected_series].pct_change(4) * 100  # 4 quarters = 1 year\n",
    "\n",
    "# Plot growth rates\n",
    "fig, ax = plt.subplots(figsize=(12, 6))\n",
    "for series in selected_series:\n",
    "    growth_rates[series].plot(ax=ax, label=series, alpha=0.7)\n",
    "\n",
    "ax.set_title('Year-over-Year Growth Rates')\n",
    "ax.set_ylabel('Growth Rate (%)')\n",
    "ax.legend(bbox_to_anchor=(1.05, 1), loc='upper left')\n",
    "ax.grid(True, alpha=0.3)\n",
    "ax.axhline(y=0, color='black', linestyle='-', linewidth=0.5)\n",
    "plt.tight_layout()\n",
    "plt.show()"
   ]
  },
  {
   "cell_type": "markdown",
   "metadata": {},
   "source": [
    "## 8. Correlation Analysis"
   ]
  },
  {
   "cell_type": "code",
   "execution_count": null,
   "metadata": {},
   "outputs": [],
   "source": [
    "# Compute correlation matrix for selected series\n",
    "corr_matrix = z1_data[selected_series].corr()\n",
    "\n",
    "# Visualize correlation matrix\n",
    "plt.figure(figsize=(10, 8))\n",
    "mask = np.triu(np.ones_like(corr_matrix), k=1)\n",
    "sns.heatmap(corr_matrix, \n",
    "            mask=mask,\n",
    "            annot=True, \n",
    "            fmt='.2f',\n",
    "            cmap='coolwarm', \n",
    "            center=0,\n",
    "            square=True,\n",
    "            linewidths=1,\n",
    "            cbar_kws={\"shrink\": 0.8})\n",
    "plt.title('Correlation Matrix of Selected Series')\n",
    "plt.tight_layout()\n",
    "plt.show()"
   ]
  },
  {
   "cell_type": "markdown",
   "metadata": {},
   "source": [
    "## 9. Load Additional Fed Data Sources"
   ]
  },
  {
   "cell_type": "code",
   "execution_count": null,
   "metadata": {},
   "outputs": [],
   "source": [
    "# Load multiple data sources\n",
    "print(\"Loading additional Federal Reserve data sources...\")\n",
    "additional_sources = ['H6', 'H15']\n",
    "\n",
    "fed_data = {}\n",
    "for source in ['Z1'] + additional_sources:\n",
    "    print(f\"\\nLoading {source}...\")\n",
    "    data = loader.load_single_source(source)\n",
    "    if data is not None:\n",
    "        fed_data[source] = data\n",
    "        print(f\"  ✓ Loaded {source}: {data.shape}\")\n",
    "    else:\n",
    "        print(f\"  ✗ Failed to load {source}\")\n",
    "\n",
    "print(f\"\\nSuccessfully loaded {len(fed_data)} data sources\")"
   ]
  },
  {
   "cell_type": "markdown",
   "metadata": {},
   "source": [
    "## 10. Save Processed Data for Next Steps"
   ]
  },
  {
   "cell_type": "code",
   "execution_count": null,
   "metadata": {},
   "outputs": [],
   "source": [
    "# Process and prepare data for decomposition analysis\n",
    "processor = DataProcessor()\n",
    "\n",
    "# Process Z1 data\n",
    "z1_processed = processor.process_fed_data(z1_data, 'Z1')\n",
    "\n",
    "# Select series with sufficient data for analysis\n",
    "min_observations = 40  # At least 10 years of quarterly data\n",
    "analysis_series = z1_processed.columns[\n",
    "    z1_processed.count() >= min_observations\n",
    "].tolist()\n",
    "\n",
    "print(f\"Selected {len(analysis_series)} series with at least {min_observations} observations\")\n",
    "print(f\"\\nSaving processed data for next notebooks...\")\n",
    "\n",
    "# Save selected series names for use in other notebooks\n",
    "import json\n",
    "with open('../data/selected_series.json', 'w') as f:\n",
    "    json.dump({\n",
    "        'series': analysis_series,\n",
    "        'date_range': {\n",
    "            'start': str(z1_processed.index.min()),\n",
    "            'end': str(z1_processed.index.max())\n",
    "        },\n",
    "        'n_observations': len(z1_processed)\n",
    "    }, f)\n",
    "\n",
    "print(\"✓ Data exploration complete!\")"
   ]
  }
 ],
 "metadata": {
  "kernelspec": {
   "display_name": "Python 3",
   "language": "python",
   "name": "python3"
  },
  "language_info": {
   "codemirror_mode": {
    "name": "ipython",
    "version": 3
   },
   "file_extension": ".py",
   "mimetype": "text/x-python",
   "name": "python",
   "nbconvert_exporter": "python",
   "pygments_lexer": "ipython3",
   "version": "3.8.0"
  }
 },
 "nbformat": 4,
 "nbformat_minor": 4
}
