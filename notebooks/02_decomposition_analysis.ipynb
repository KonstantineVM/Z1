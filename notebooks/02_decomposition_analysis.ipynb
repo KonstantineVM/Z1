{
 "cells": [
  {
   "cell_type": "markdown",
   "metadata": {},
   "source": [
    "# Unobserved Components Decomposition Analysis\n",
    "\n",
    "This notebook demonstrates how to decompose Z1 time series into trend, cycle, seasonal, and irregular components using the project's UC model infrastructure."
   ]
  },
  {
   "cell_type": "markdown",
   "metadata": {},
   "source": [
    "## 1. Setup and Imports"
   ]
  },
  {
   "cell_type": "code",
   "execution_count": null,
   "metadata": {},
   "outputs": [],
   "source": [
    "# Standard imports\n",
    "import pandas as pd\n",
    "import numpy as np\n",
    "import matplotlib.pyplot as plt\n",
    "import seaborn as sns\n",
    "import json\n",
    "from pathlib import Path\n",
    "import warnings\n",
    "warnings.filterwarnings('ignore')\n",
    "\n",
    "# Project imports\n",
    "import sys\n",
    "sys.path.append('..')  # Add parent directory to path\n",
    "\n",
    "from src.data.cached_fed_data_loader import CachedFedDataLoader\n",
    "from src.models.unobserved_components import UnobservedComponentsModel\n",
    "from src.visualization.economic_plots import EconomicVisualizer\n",
    "\n",
    "# Set plotting style\n",
    "plt.style.use('seaborn-v0_8-darkgrid')\n",
    "sns.set_palette(\"husl\")\n",
    "%matplotlib inline"
   ]
  },
  {
   "cell_type": "markdown",
   "metadata": {},
   "source": [
    "## 2. Load Processed Data"
   ]
  },
  {
   "cell_type": "code",
   "execution_count": null,
   "metadata": {},
   "outputs": [],
   "source": [
    "# Load the cached Z1 data\n",
    "loader = CachedFedDataLoader(\n",
    "    base_directory=\"../data/fed_data\",\n",
    "    cache_directory=\"../data/cache\"\n",
    ")\n",
    "\n",
    "# Load Z1 data\n",
    "print(\"Loading Z1 data...\")\n",
    "z1_data = loader.load_single_source('Z1')\n",
    "\n",
    "# Load selected series from previous notebook\n",
    "try:\n",
    "    with open('../data/selected_series.json', 'r') as f:\n",
    "        selection_info = json.load(f)\n",
    "    selected_series = selection_info['series']\n",
    "    print(f\"\\nLoaded {len(selected_series)} pre-selected series\")\n",
    "except FileNotFoundError:\n",
    "    # Fallback: select series with good coverage\n",
    "    print(\"No pre-selected series found. Selecting series with good coverage...\")\n",
    "    non_null_counts = z1_data.count()\n",
    "    selected_series = non_null_counts[non_null_counts >= 100].index.tolist()[:20]\n",
    "    print(f\"Selected {len(selected_series)} series\")\n",
    "\n",
    "# Focus on a subset for demonstration\n",
    "demo_series = selected_series[:10]\n",
    "print(f\"\\nUsing {len(demo_series)} series for demonstration\")"
   ]
  },
  {
   "cell_type": "markdown",
   "metadata": {},
   "source": [
    "## 3. Initialize UC Model"
   ]
  },
  {
   "cell_type": "code",
   "execution_count": null,
   "metadata": {},
   "outputs": [],
   "source": [
    "# Initialize the Unobserved Components model\n",
    "uc_model = UnobservedComponentsModel(\n",
    "    level=True,\n",
    "    trend=True,\n",
    "    seasonal=4,  # Quarterly seasonality\n",
    "    cycle=True,\n",
    "    damped_cycle=True,\n",
    "    stochastic_level=True,\n",
    "    stochastic_trend=True,\n",
    "    stochastic_seasonal=True,\n",
    "    stochastic_cycle=True\n",
    ")\n",
    "\n",
    "print(\"UC Model Configuration:\")\n",
    "print(\"=\" * 50)\n",
    "print(f\"Level: {uc_model.level} (stochastic: {uc_model.stochastic_level})\")\n",
    "print(f\"Trend: {uc_model.trend} (stochastic: {uc_model.stochastic_trend})\")\n",
    "print(f\"Seasonal: {uc_model.seasonal} periods (stochastic: {uc_model.stochastic_seasonal})\")\n",
    "print(f\"Cycle: {uc_model.cycle} (damped: {uc_model.damped_cycle}, stochastic: {uc_model.stochastic_cycle})\")"
   ]
  },
  {
   "cell_type": "markdown",
   "metadata": {},
   "source": [
    "## 4. Decompose Single Series Example"
   ]
  },
  {
   "cell_type": "code",
   "execution_count": null,
   "metadata": {},
   "outputs": [],
   "source": [
    "# Select a single series for detailed analysis\n",
    "example_series = demo_series[0]\n",
    "series_data = z1_data[example_series].dropna()\n",
    "\n",
    "print(f\"Decomposing series: {example_series}\")\n",
    "print(f\"Data points: {len(series_data)}\")\n",
    "print(f\"Date range: {series_data.index.min()} to {series_data.index.max()}\")\n",
    "\n",
    "# Perform decomposition\n",
    "components = uc_model.decompose_series(series_data)\n",
    "\n",
    "if components is not None:\n",
    "    print(\"\\nDecomposition successful!\")\n",
    "    print(f\"Components: {list(components.keys())}\")\n",
    "else:\n",
    "    print(\"\\nDecomposition failed. Check data quality.\")"
   ]
  },
  {
   "cell_type": "code",
   "execution_count": null,
   "metadata": {},
   "outputs": [],
   "source": [
    "# Visualize the decomposition\n",
    "if components is not None:\n",
    "    fig, axes = plt.subplots(5, 1, figsize=(12, 15))\n",
    "    \n",
    "    # Original series\n",
    "    axes[0].plot(series_data.index, series_data.values, 'k-', linewidth=1.5, label='Original')\n",
    "    axes[0].set_title(f'Original Series: {example_series}')\n",
    "    axes[0].legend()\n",
    "    axes[0].grid(True, alpha=0.3)\n",
    "    \n",
    "    # Components\n",
    "    component_names = ['Level', 'Trend', 'Seasonal', 'Cycle']\n",
    "    for i, comp_name in enumerate(component_names):\n",
    "        if comp_name.lower() in components:\n",
    "            comp_data = components[comp_name.lower()]\n",
    "            axes[i+1].plot(comp_data.index, comp_data.values, linewidth=1.5)\n",
    "            axes[i+1].set_title(f'{comp_name} Component')\n",
    "            axes[i+1].grid(True, alpha=0.3)\n",
    "    \n",
    "    plt.tight_layout()\n",
    "    plt.show()"
   ]
  },
  {
   "cell_type": "markdown",
   "metadata": {},
   "source": [
    "## 5. Parallel Decomposition of Multiple Series"
   ]
  },
  {
   "cell_type": "code",
   "execution_count": null,
   "metadata": {},
   "outputs": [],
   "source": [
    "# Decompose multiple series in parallel\n",
    "print(f\"Decomposing {len(demo_series)} series in parallel...\")\n",
    "print(\"This may take a few minutes...\\n\")\n",
    "\n",
    "# Prepare data for parallel decomposition\n",
    "demo_data = z1_data[demo_series].dropna(axis=1, how='all')\n",
    "\n",
    "# Perform parallel decomposition\n",
    "all_components = uc_model.decompose_parallel(\n",
    "    demo_data,\n",
    "    n_jobs=4,  # Use 4 parallel processes\n",
    "    verbose=True\n",
    ")\n",
    "\n",
    "print(\"\\nDecomposition complete!\")\n",
    "for comp_name, comp_df in all_components.items():\n",
    "    if comp_df is not None:\n",
    "        print(f\"{comp_name}: {comp_df.shape}\")"
   ]
  },
  {
   "cell_type": "markdown",
   "metadata": {},
   "source": [
    "## 6. Component Analysis"
   ]
  },
  {
   "cell_type": "code",
   "execution_count": null,
   "metadata": {},
   "outputs": [],
   "source": [
    "# Analyze the cyclical component\n",
    "if 'cycle' in all_components and all_components['cycle'] is not None:\n",
    "    cycle_df = all_components['cycle']\n",
    "    \n",
    "    # Calculate cycle statistics\n",
    "    cycle_stats = pd.DataFrame({\n",
    "        'mean': cycle_df.mean(),\n",
    "        'std': cycle_df.std(),\n",
    "        'min': cycle_df.min(),\n",
    "        'max': cycle_df.max(),\n",
    "        'amplitude': cycle_df.max() - cycle_df.min()\n",
    "    })\n",
    "    \n",
    "    print(\"Cycle Component Statistics:\")\n",
    "    print(\"=\" * 50)\n",
    "    print(cycle_stats.describe().round(3))\n",
    "    \n",
    "    # Plot cycle components\n",
    "    fig, ax = plt.subplots(figsize=(12, 6))\n",
    "    for col in cycle_df.columns[:5]:  # Plot first 5 series\n",
    "        ax.plot(cycle_df.index, cycle_df[col], alpha=0.7, label=col)\n",
    "    \n",
    "    ax.axhline(y=0, color='black', linestyle='--', alpha=0.5)\n",
    "    ax.set_title('Cyclical Components of Selected Series')\n",
    "    ax.set_ylabel('Cycle Component')\n",
    "    ax.legend(bbox_to_anchor=(1.05, 1), loc='upper left')\n",
    "    ax.grid(True, alpha=0.3)\n",
    "    plt.tight_layout()\n",
    "    plt.show()"
   ]
  },
  {
   "cell_type": "markdown",
   "metadata": {},
   "source": [
    "## 7. Trend Analysis"
   ]
  },
  {
   "cell_type": "code",
   "execution_count": null,
   "metadata": {},
   "outputs": [],
   "source": [
    "# Analyze trends\n",
    "if 'trend' in all_components and all_components['trend'] is not None:\n",
    "    trend_df = all_components['trend']\n",
    "    \n",
    "    # Calculate trend growth rates\n",
    "    trend_growth = trend_df.pct_change(4) * 100  # Year-over-year growth\n",
    "    \n",
    "    # Plot trend growth rates\n",
    "    fig, (ax1, ax2) = plt.subplots(2, 1, figsize=(12, 10))\n",
    "    \n",
    "    # Trends\n",
    "    for col in trend_df.columns[:5]:\n",
    "        ax1.plot(trend_df.index, trend_df[col], linewidth=2, label=col)\n",
    "    ax1.set_title('Trend Components')\n",
    "    ax1.set_ylabel('Trend Level')\n",
    "    ax1.legend(bbox_to_anchor=(1.05, 1), loc='upper left')\n",
    "    ax1.grid(True, alpha=0.3)\n",
    "    \n",
    "    # Growth rates\n",
    "    for col in trend_growth.columns[:5]:\n",
    "        ax2.plot(trend_growth.index, trend_growth[col], alpha=0.7, label=col)\n",
    "    ax2.axhline(y=0, color='black', linestyle='--', alpha=0.5)\n",
    "    ax2.set_title('Trend Growth Rates (YoY %)')\n",
    "    ax2.set_ylabel('Growth Rate (%)')\n",
    "    ax2.legend(bbox_to_anchor=(1.05, 1), loc='upper left')\n",
    "    ax2.grid(True, alpha=0.3)\n",
    "    \n",
    "    plt.tight_layout()\n",
    "    plt.show()"
   ]
  },
  {
   "cell_type": "markdown",
   "metadata": {},
   "source": [
    "## 8. Seasonal Pattern Analysis"
   ]
  },
  {
   "cell_type": "code",
   "execution_count": null,
   "metadata": {},
   "outputs": [],
   "source": [
    "# Analyze seasonal patterns\n",
    "if 'seasonal' in all_components and all_components['seasonal'] is not None:\n",
    "    seasonal_df = all_components['seasonal']\n",
    "    \n",
    "    # Extract seasonal patterns by quarter\n",
    "    seasonal_patterns = pd.DataFrame(index=['Q1', 'Q2', 'Q3', 'Q4'])\n",
    "    \n",
    "    for col in seasonal_df.columns[:5]:\n",
    "        quarterly_avg = []\n",
    "        for q in range(1, 5):\n",
    "            q_data = seasonal_df[col][seasonal_df.index.quarter == q]\n",
    "            quarterly_avg.append(q_data.mean())\n",
    "        seasonal_patterns[col] = quarterly_avg\n",
    "    \n",
    "    # Plot seasonal patterns\n",
    "    fig, ax = plt.subplots(figsize=(10, 6))\n",
    "    seasonal_patterns.plot(kind='bar', ax=ax)\n",
    "    ax.set_title('Average Seasonal Patterns by Quarter')\n",
    "    ax.set_ylabel('Seasonal Component')\n",
    "    ax.set_xlabel('Quarter')\n",
    "    ax.legend(bbox_to_anchor=(1.05, 1), loc='upper left')\n",
    "    ax.grid(True, alpha=0.3, axis='y')\n",
    "    plt.xticks(rotation=0)\n",
    "    plt.tight_layout()\n",
    "    plt.show()"
   ]
  },
  {
   "cell_type": "markdown",
   "metadata": {},
   "source": [
    "## 9. Component Contribution Analysis"
   ]
  },
  {
   "cell_type": "code",
   "execution_count": null,
   "metadata": {},
   "outputs": [],
   "source": [
    "# Analyze component contributions for a single series\n",
    "series_name = demo_series[0]\n",
    "original = z1_data[series_name].dropna()\n",
    "\n",
    "# Get all components for this series\n",
    "components_dict = {}\n",
    "for comp_name in ['level', 'trend', 'seasonal', 'cycle']:\n",
    "    if comp_name in all_components and all_components[comp_name] is not None:\n",
    "        if series_name in all_components[comp_name].columns:\n",
    "            components_dict[comp_name] = all_components[comp_name][series_name]\n",
    "\n",
    "# Calculate variance contributions\n",
    "if components_dict:\n",
    "    variance_contributions = {}\n",
    "    total_variance = original.var()\n",
    "    \n",
    "    for comp_name, comp_data in components_dict.items():\n",
    "        comp_variance = comp_data.var()\n",
    "        variance_contributions[comp_name] = (comp_variance / total_variance) * 100\n",
    "    \n",
    "    # Visualize variance contributions\n",
    "    fig, (ax1, ax2) = plt.subplots(1, 2, figsize=(12, 5))\n",
    "    \n",
    "    # Pie chart\n",
    "    ax1.pie(variance_contributions.values(), \n",
    "            labels=variance_contributions.keys(),\n",
    "            autopct='%1.1f%%',\n",
    "            startangle=90)\n",
    "    ax1.set_title(f'Variance Contributions\\n{series_name}')\n",
    "    \n",
    "    # Stacked area chart\n",
    "    comp_df = pd.DataFrame(components_dict)\n",
    "    comp_df = comp_df.fillna(0)\n",
    "    comp_df.plot.area(ax=ax2, alpha=0.7)\n",
    "    ax2.set_title('Component Evolution Over Time')\n",
    "    ax2.set_ylabel('Component Value')\n",
    "    ax2.legend(loc='upper left')\n",
    "    ax2.grid(True, alpha=0.3)\n",
    "    \n",
    "    plt.tight_layout()\n",
    "    plt.show()"
   ]
  },
  {
   "cell_type": "markdown",
   "metadata": {},
   "source": [
    "## 10. Model Diagnostics"
   ]
  },
  {
   "cell_type": "code",
   "execution_count": null,
   "metadata": {},
   "outputs": [],
   "source": [
    "# Perform diagnostics on the decomposition\n",
    "# Check residuals for a single series\n",
    "if components_dict:\n",
    "    # Reconstruct the series from components\n",
    "    reconstructed = sum(components_dict.values())\n",
    "    residuals = original.reindex(reconstructed.index) - reconstructed\n",
    "    \n",
    "    # Diagnostic plots\n",
    "    fig, axes = plt.subplots(2, 2, figsize=(12, 10))\n",
    "    \n",
    "    # Residuals over time\n",
    "    axes[0, 0].plot(residuals.index, residuals.values, alpha=0.7)\n",
    "    axes[0, 0].axhline(y=0, color='red', linestyle='--')\n",
    "    axes[0, 0].set_title('Residuals Over Time')\n",
    "    axes[0, 0].grid(True, alpha=0.3)\n",
    "    \n",
    "    # Residual histogram\n",
    "    axes[0, 1].hist(residuals.dropna(), bins=30, alpha=0.7, edgecolor='black')\n",
    "    axes[0, 1].set_title('Residual Distribution')\n",
    "    axes[0, 1].set_xlabel('Residual Value')\n",
    "    \n",
    "    # Q-Q plot\n",
    "    from scipy import stats\n",
    "    stats.probplot(residuals.dropna(), dist=\"norm\", plot=axes[1, 0])\n",
    "    axes[1, 0].set_title('Q-Q Plot')\n",
    "    \n",
    "    # ACF of residuals\n",
    "    from statsmodels.graphics.tsaplots import plot_acf\n",
    "    plot_acf(residuals.dropna(), lags=20, ax=axes[1, 1])\n",
    "    axes[1, 1].set_title('Residual Autocorrelation')\n",
    "    \n",
    "    plt.tight_layout()\n",
    "    plt.show()\n",
    "    \n",
    "    # Print diagnostic statistics\n",
    "    print(\"Residual Diagnostics:\")\n",
    "    print(\"=\" * 50)\n",
    "    print(f\"Mean: {residuals.mean():.6f}\")\n",
    "    print(f\"Std Dev: {residuals.std():.6f}\")\n",
    "    print(f\"Skewness: {residuals.skew():.3f}\")\n",
    "    print(f\"Kurtosis: {residuals.kurtosis():.3f}\")\n",
    "    \n",
    "    # Ljung-Box test\n",
    "    from statsmodels.stats.diagnostic import acorr_ljungbox\n",
    "    lb_test = acorr_ljungbox(residuals.dropna(), lags=10, return_df=True)\n",
    "    print(\"\\nLjung-Box Test (H0: No autocorrelation):\")\n",
    "    print(lb_test[['lb_stat', 'lb_pvalue']].round(3))"
   ]
  },
  {
   "cell_type": "markdown",
   "metadata": {},
   "source": [
    "## 11. Save Decomposed Components"
   ]
  },
  {
   "cell_type": "code",
   "execution_count": null,
   "metadata": {},
   "outputs": [],
   "source": [
    "# Save the decomposed components for use in subsequent notebooks\n",
    "output_dir = Path('../data/decomposed')\n",
    "output_dir.mkdir(exist_ok=True)\n",
    "\n",
    "# Save each component\n",
    "for comp_name, comp_df in all_components.items():\n",
    "    if comp_df is not None:\n",
    "        filename = output_dir / f'{comp_name}_components.parquet'\n",
    "        comp_df.to_parquet(filename)\n",
    "        print(f\"Saved {comp_name} components to {filename}\")\n",
    "\n",
    "# Save metadata\n",
    "metadata = {\n",
    "    'series': demo_series,\n",
    "    'components': list(all_components.keys()),\n",
    "    'date_range': {\n",
    "        'start': str(demo_data.index.min()),\n",
    "        'end': str(demo_data.index.max())\n",
    "    },\n",
    "    'model_config': {\n",
    "        'level': uc_model.level,\n",
    "        'trend': uc_model.trend,\n",
    "        'seasonal': uc_model.seasonal,\n",
    "        'cycle': uc_model.cycle\n",
    "    }\n",
    "}\n",
    "\n",
    "with open(output_dir / 'decomposition_metadata.json', 'w') as f:\n",
    "    json.dump(metadata, f, indent=2)\n",
    "\n",
    "print(\"\\n Decomposition analysis complete!\")"
   ]
  }
 ],
 "metadata": {
  "kernelspec": {
   "display_name": "Python 3",
   "language": "python",
   "name": "python3"
  },
  "language_info": {
   "codemirror_mode": {
    "name": "ipython",
    "version": 3
   },
   "file_extension": ".py",
   "mimetype": "text/x-python",
   "name": "python",
   "nbconvert_exporter": "python",
   "pygments_lexer": "ipython3",
   "version": "3.8.0"
  }
 },
 "nbformat": 4,
 "nbformat_minor": 4
}
